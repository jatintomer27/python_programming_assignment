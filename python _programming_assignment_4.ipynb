{
 "cells": [
  {
   "cell_type": "markdown",
   "id": "7d7bfa17",
   "metadata": {},
   "source": [
    "# Python programming assignment 4"
   ]
  },
  {
   "cell_type": "markdown",
   "id": "5b5a8fcb",
   "metadata": {},
   "source": [
    "Question 1: Write a Python Program to Find the Factorial of a Number?\n",
    "\n",
    "Answer:"
   ]
  },
  {
   "cell_type": "code",
   "execution_count": null,
   "id": "82303a5b",
   "metadata": {},
   "outputs": [],
   "source": [
    "a = int(input(\"enter the number \"))\n",
    "if a >= 0:\n",
    "    n = a\n",
    "    fact = 1\n",
    "    while n >=1:\n",
    "        fact = fact * n\n",
    "        n -= 1\n",
    "    print(fact)\n",
    "else:\n",
    "    print(\"enter the positive number\")\n"
   ]
  },
  {
   "cell_type": "markdown",
   "id": "5296d13f",
   "metadata": {},
   "source": [
    "                                                                                                                         "
   ]
  },
  {
   "cell_type": "markdown",
   "id": "8aff7bc6",
   "metadata": {},
   "source": [
    "Question 2: Write a Python Program to Display the multiplication Table?\n",
    "\n",
    "Answer: "
   ]
  },
  {
   "cell_type": "code",
   "execution_count": null,
   "id": "9e267124",
   "metadata": {},
   "outputs": [],
   "source": [
    "a = int(input(\"enter the number \"))\n",
    "for i in range(1,11):\n",
    "    print(\"{} * {} is {}\".format(a,i,a*i))"
   ]
  },
  {
   "cell_type": "markdown",
   "id": "18305810",
   "metadata": {},
   "source": [
    "                                                                                                                         "
   ]
  },
  {
   "cell_type": "markdown",
   "id": "87ac53f1",
   "metadata": {},
   "source": [
    "Question 3: Write a Python Program to Print the Fibonacci sequence?\n",
    "\n",
    "Answer: "
   ]
  },
  {
   "cell_type": "code",
   "execution_count": null,
   "id": "ad01e509",
   "metadata": {},
   "outputs": [],
   "source": [
    "n = int(input(\"enter how many terms you want \")) \n",
    "count = 1\n",
    "n1 ,n2 = 0 , 1\n",
    "if n<=0:\n",
    "    print(\"enter the number greater than zero\")\n",
    "elif n == 1:\n",
    "    print(\"Fibonacci sequence :\",end=\" \")\n",
    "    print(n1)\n",
    "else:\n",
    "    print(\"Fibonacci sequence :\",end=\" \")\n",
    "    while count <= n:\n",
    "         print(n1,end=\" \")\n",
    "         n3 = n1 + n2\n",
    "         n1,n2 = n2,n3\n",
    "         count += 1\n",
    "     \n"
   ]
  },
  {
   "cell_type": "markdown",
   "id": "5f695d27",
   "metadata": {},
   "source": [
    "                                                                                                                              "
   ]
  },
  {
   "cell_type": "markdown",
   "id": "ba5e12e6",
   "metadata": {},
   "source": [
    "Question 4: Write a Python Program to Check Armstrong Number?\n",
    "\n",
    "Answer:"
   ]
  },
  {
   "cell_type": "code",
   "execution_count": null,
   "id": "e83680fe",
   "metadata": {},
   "outputs": [],
   "source": [
    "n = input(\"enter the number \")\n",
    "if int(n) >= 0:\n",
    "    b = 0\n",
    "    for i in n:\n",
    "        a = int(i)\n",
    "        a = a*a*a\n",
    "        b = b + a\n",
    "    if b == int(n):\n",
    "        print(\"Armstrong Number\")\n",
    "    else:\n",
    "        print(\"not a armstrong number\")\n",
    "else:\n",
    "    print(\"not a armstrong number\")"
   ]
  },
  {
   "cell_type": "markdown",
   "id": "0e8253ce",
   "metadata": {},
   "source": [
    "                                                                                                            "
   ]
  },
  {
   "cell_type": "markdown",
   "id": "46da4faa",
   "metadata": {},
   "source": [
    "Question 5: Write a Python Program to Find Armstrong Number in an Interval?\n",
    "\n",
    "Answer: "
   ]
  },
  {
   "cell_type": "code",
   "execution_count": null,
   "id": "c994a9bd",
   "metadata": {},
   "outputs": [],
   "source": [
    "num_1 = input(\"enter the lower bound of interval \")\n",
    "num_2 = input(\"enter the upper bound of interval \")\n",
    "\n",
    "l = []\n",
    "for n in range(int(num_1) , int(num_2)):\n",
    "    if int(n) >= 0:\n",
    "        b = 0\n",
    "        for i in str(n):\n",
    "            a = int(i)\n",
    "            a = a*a*a\n",
    "            b = b + a\n",
    "        if b == int(n):\n",
    "            l.append(n)\n",
    "print(l)\n",
    "    "
   ]
  },
  {
   "cell_type": "markdown",
   "id": "cc550c96",
   "metadata": {},
   "source": [
    "                                                                                                                    "
   ]
  },
  {
   "cell_type": "markdown",
   "id": "848db817",
   "metadata": {},
   "source": [
    "Question 6:Write a Python Program to Find the Sum of Natural Numbers?\n",
    "\n",
    "Answer:"
   ]
  },
  {
   "cell_type": "code",
   "execution_count": null,
   "id": "b41295ce",
   "metadata": {},
   "outputs": [],
   "source": [
    "n = int(input(\"enter the natural number upto which you want to sum of natural number \"))\n",
    "\n",
    "if n > 0:\n",
    "    sum = 0\n",
    "    for i in range(1,n+1):\n",
    "        sum += i\n",
    "    print(\"sum of first {} natural number is {}\".format(n,sum))\n",
    "else:\n",
    "    print(\"please enter the natural number\")"
   ]
  }
 ],
 "metadata": {
  "kernelspec": {
   "display_name": "Python 3 (ipykernel)",
   "language": "python",
   "name": "python3"
  },
  "language_info": {
   "codemirror_mode": {
    "name": "ipython",
    "version": 3
   },
   "file_extension": ".py",
   "mimetype": "text/x-python",
   "name": "python",
   "nbconvert_exporter": "python",
   "pygments_lexer": "ipython3",
   "version": "3.9.7"
  }
 },
 "nbformat": 4,
 "nbformat_minor": 5
}
