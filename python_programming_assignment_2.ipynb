{
 "cells": [
  {
   "cell_type": "markdown",
   "id": "e3f414dd",
   "metadata": {},
   "source": [
    "# Python programming assignment 2"
   ]
  },
  {
   "cell_type": "markdown",
   "id": "d919bb69",
   "metadata": {},
   "source": [
    "                                                                                                                                  "
   ]
  },
  {
   "cell_type": "markdown",
   "id": "773ea52a",
   "metadata": {},
   "source": [
    "Question 1: Write a Python program to convert kilometers to miles?\n",
    "\n",
    "Answer:"
   ]
  },
  {
   "cell_type": "code",
   "execution_count": null,
   "id": "7e276c8c",
   "metadata": {},
   "outputs": [],
   "source": [
    "km = float(input(\"enter the distance in km \"))\n",
    "miles = round(km*0.621371, ndigits = 2)\n",
    "print(\"distance in miles is \",miles)"
   ]
  },
  {
   "cell_type": "markdown",
   "id": "3e1d46fd",
   "metadata": {},
   "source": [
    "                                                                                                                      "
   ]
  },
  {
   "cell_type": "markdown",
   "id": "0b6bf1df",
   "metadata": {},
   "source": [
    "Question 2: Write a Python program to convert Celsius to Fahrenheit?\n",
    "\n",
    "Answer:"
   ]
  },
  {
   "cell_type": "code",
   "execution_count": null,
   "id": "1b464d35",
   "metadata": {},
   "outputs": [],
   "source": [
    "celsius = float(input(\"enter the value in celsius \"))\n",
    "fahren = (celsius * 9/5)+32\n",
    "print(\"the value in fahrenheit \",fahren)"
   ]
  },
  {
   "cell_type": "markdown",
   "id": "d89b5c07",
   "metadata": {},
   "source": [
    "                                                                                                                       "
   ]
  },
  {
   "cell_type": "markdown",
   "id": "91025ef1",
   "metadata": {},
   "source": [
    "Question 3: Write a Python program to display calendar?\n",
    "\n",
    "Answer:"
   ]
  },
  {
   "cell_type": "code",
   "execution_count": null,
   "id": "71d39c24",
   "metadata": {},
   "outputs": [],
   "source": [
    "import calendar\n",
    "\n",
    "year = int(input(\"enter the year \"))\n",
    "month = int(input(\"enter the month \"))\n",
    " \n",
    "print(calendar.month(year,month))\n"
   ]
  },
  {
   "cell_type": "markdown",
   "id": "d7ae65d6",
   "metadata": {},
   "source": [
    "                                                                                                                        "
   ]
  },
  {
   "cell_type": "markdown",
   "id": "0b9005f5",
   "metadata": {},
   "source": [
    "Question 4: Write a Python program to solve quadratic equation?\n",
    "    \n",
    "Answer:"
   ]
  },
  {
   "cell_type": "code",
   "execution_count": null,
   "id": "6af74dac",
   "metadata": {},
   "outputs": [],
   "source": [
    "import math\n",
    "\n",
    "a = int(input(\"enter the cofficient of x square \"))\n",
    "b = int(input(\"enter the cofficient of x \"))\n",
    "c = int(input(\"enter the constant value \"))\n",
    "\n",
    "roots = b*b - 4*a*c\n",
    "\n",
    "if roots >= 0:\n",
    "    sol_1 = (-b + math.sqrt(roots))/(2*a)\n",
    "    sol_2 = (-b - math.sqrt(roots))/(2*a)\n",
    "    print(\"solution of the quardatic quation is {} and {}\".format(sol_1 , sol_2))\n",
    "else:\n",
    "    print(\"roots of this quardatic equation are complex\")\n",
    "    "
   ]
  },
  {
   "cell_type": "markdown",
   "id": "9d2dfc8b",
   "metadata": {},
   "source": [
    "                                                                                                                "
   ]
  },
  {
   "cell_type": "markdown",
   "id": "91be82bf",
   "metadata": {},
   "source": [
    "Question 5: Write a Python program to swap two variables without temp variable?\n",
    "\n",
    "Answer:"
   ]
  },
  {
   "cell_type": "code",
   "execution_count": null,
   "id": "19a5dbaa",
   "metadata": {},
   "outputs": [],
   "source": [
    "a = input(\"enter the value of a \")\n",
    "b = input(\"enter the value of b \")\n",
    "\n",
    "print(\"before swap value of a is {} and b is {}\".format(a,b))\n",
    "\n",
    "a , b = b , a\n",
    "\n",
    "print(\"after swap value of a is {} and b is {}\".format(a,b))\n"
   ]
  }
 ],
 "metadata": {
  "kernelspec": {
   "display_name": "Python 3 (ipykernel)",
   "language": "python",
   "name": "python3"
  },
  "language_info": {
   "codemirror_mode": {
    "name": "ipython",
    "version": 3
   },
   "file_extension": ".py",
   "mimetype": "text/x-python",
   "name": "python",
   "nbconvert_exporter": "python",
   "pygments_lexer": "ipython3",
   "version": "3.9.7"
  }
 },
 "nbformat": 4,
 "nbformat_minor": 5
}
