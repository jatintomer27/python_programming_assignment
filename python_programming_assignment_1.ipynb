{
 "cells": [
  {
   "cell_type": "markdown",
   "id": "ba930f23",
   "metadata": {},
   "source": [
    "# python programming assignment 1\n"
   ]
  },
  {
   "cell_type": "markdown",
   "id": "9b3821e5",
   "metadata": {},
   "source": [
    "                    "
   ]
  },
  {
   "cell_type": "markdown",
   "id": "c70c8940",
   "metadata": {},
   "source": [
    "Question 1: Write a Python program to print \"Hello Python\"?\n",
    "\n",
    "Answer:"
   ]
  },
  {
   "cell_type": "code",
   "execution_count": null,
   "id": "0f26e620",
   "metadata": {},
   "outputs": [],
   "source": [
    "print(\"Hello Python\")"
   ]
  },
  {
   "cell_type": "markdown",
   "id": "c7713a99",
   "metadata": {},
   "source": [
    "                                                                "
   ]
  },
  {
   "cell_type": "markdown",
   "id": "fa51c4f1",
   "metadata": {},
   "source": [
    "Question 2: Write a Python program to do arithmetical operations addition and division.?\n",
    "    \n",
    "Answer:\n",
    "    "
   ]
  },
  {
   "cell_type": "code",
   "execution_count": null,
   "id": "df65a705",
   "metadata": {},
   "outputs": [],
   "source": [
    "a = 10\n",
    "b = 5\n",
    "c = a + b\n",
    "d = a / b    # give answer in floating point number \n",
    "e = a // b   # give answer in integer number\n",
    "print(\"a + b is \",c)\n",
    "print(\"a / b is \",d)\n",
    "print(\"a // b is \",e)"
   ]
  },
  {
   "cell_type": "markdown",
   "id": "2b197d7f",
   "metadata": {},
   "source": [
    "                                            "
   ]
  },
  {
   "cell_type": "markdown",
   "id": "3b66cfed",
   "metadata": {},
   "source": [
    "Question 3: Write a Python program to find the area of a triangle?\n",
    "\n",
    "Answer:"
   ]
  },
  {
   "cell_type": "code",
   "execution_count": null,
   "id": "41aaf24d",
   "metadata": {},
   "outputs": [],
   "source": [
    "base = int(input(\"enter the base of the triangle \"))\n",
    "height = int(input(\"enter the height of the triangle \"))\n",
    "area = (base * height)/2\n",
    "print(\"Area of triangle is \",area)"
   ]
  },
  {
   "cell_type": "markdown",
   "id": "7f11a839",
   "metadata": {},
   "source": [
    "                                                       "
   ]
  },
  {
   "cell_type": "markdown",
   "id": "fba8d905",
   "metadata": {},
   "source": [
    "Question 4: Write a Python program to swap two variables?\n",
    "\n",
    "Answer:"
   ]
  },
  {
   "cell_type": "code",
   "execution_count": null,
   "id": "e72b872c",
   "metadata": {},
   "outputs": [],
   "source": [
    "a = int(input(\"enter the value of first variable\"))\n",
    "b = int(input(\"enter the value of second variable\"))\n",
    "print(\"before swap the value of a is {} and b is {}\".format(a,b))\n",
    "a,b = b,a\n",
    "print(\"after swap the value of a is {} and b is {}\".format(a,b))\n"
   ]
  },
  {
   "cell_type": "markdown",
   "id": "0b300f7e",
   "metadata": {},
   "source": [
    "                                 "
   ]
  },
  {
   "cell_type": "markdown",
   "id": "82c967c9",
   "metadata": {},
   "source": [
    "Question 5: Write a Python program to generate a random number?\n",
    "\n",
    "Answer:"
   ]
  },
  {
   "cell_type": "code",
   "execution_count": null,
   "id": "3be80988",
   "metadata": {},
   "outputs": [],
   "source": [
    "import random\n",
    "a  = random.randint(1,10)\n",
    "print(\"random number is \",a)"
   ]
  }
 ],
 "metadata": {
  "kernelspec": {
   "display_name": "Python 3 (ipykernel)",
   "language": "python",
   "name": "python3"
  },
  "language_info": {
   "codemirror_mode": {
    "name": "ipython",
    "version": 3
   },
   "file_extension": ".py",
   "mimetype": "text/x-python",
   "name": "python",
   "nbconvert_exporter": "python",
   "pygments_lexer": "ipython3",
   "version": "3.9.7"
  }
 },
 "nbformat": 4,
 "nbformat_minor": 5
}
