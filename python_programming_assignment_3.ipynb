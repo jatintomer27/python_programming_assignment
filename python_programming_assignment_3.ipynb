{
 "cells": [
  {
   "cell_type": "markdown",
   "id": "e15bd501",
   "metadata": {},
   "source": [
    "# Python programming assignment 3"
   ]
  },
  {
   "cell_type": "markdown",
   "id": "a2651fcc",
   "metadata": {},
   "source": [
    "                                                                                                           "
   ]
  },
  {
   "cell_type": "markdown",
   "id": "0a5e96b1",
   "metadata": {},
   "source": [
    "Question 1: Write a Python Program to Check if a Number is Positive, Negative or Zero?\n",
    "\n",
    "Answer:"
   ]
  },
  {
   "cell_type": "code",
   "execution_count": null,
   "id": "96e4fe8d",
   "metadata": {},
   "outputs": [],
   "source": [
    "a = int(input(\"enter the number \"))\n",
    "if a > 0:\n",
    "    print(\"Number is Positive\")\n",
    "elif a < 0:\n",
    "    print(\"Number is Negative\")\n",
    "else: \n",
    "    print(\"Number is Zero\")"
   ]
  },
  {
   "cell_type": "markdown",
   "id": "c257b06c",
   "metadata": {},
   "source": [
    "                                                                                                                   "
   ]
  },
  {
   "cell_type": "markdown",
   "id": "36be17f6",
   "metadata": {},
   "source": [
    "Question 2: Write a Python Program to Check if a Number is Odd or Even?\n",
    "\n",
    "Answer:"
   ]
  },
  {
   "cell_type": "code",
   "execution_count": null,
   "id": "e2fbbb9f",
   "metadata": {},
   "outputs": [],
   "source": [
    "a = int(input(\"enter the number \"))\n",
    "if a % 2 == 0:\n",
    "    print(\"Even Number\")\n",
    "else:\n",
    "    print(\"Odd Number\")"
   ]
  },
  {
   "cell_type": "markdown",
   "id": "8e8ddde5",
   "metadata": {},
   "source": [
    "                                                                                                            "
   ]
  },
  {
   "cell_type": "markdown",
   "id": "1686bf98",
   "metadata": {},
   "source": [
    "Question 3: Write a Python Program to Check Leap Year?\n",
    "\n",
    "Answer:"
   ]
  },
  {
   "cell_type": "code",
   "execution_count": null,
   "id": "a7ba7bcd",
   "metadata": {},
   "outputs": [],
   "source": [
    "year = int(input(\"enter the year \"))\n",
    "if year >= 0:\n",
    "    if year % 4 == 0 :\n",
    "        print(\"Leap Year\")\n",
    "    else: \n",
    "        print(\"Not a leap year\")\n",
    "else:\n",
    "    print(\"Enter the valid year\")"
   ]
  },
  {
   "cell_type": "markdown",
   "id": "23106e96",
   "metadata": {},
   "source": [
    "                                                                                                                          "
   ]
  },
  {
   "cell_type": "markdown",
   "id": "42226c0d",
   "metadata": {},
   "source": [
    "Question 4: Write a Python Program to Check Prime Number?\n",
    "\n",
    "Answer:"
   ]
  },
  {
   "cell_type": "code",
   "execution_count": null,
   "id": "6166beb5",
   "metadata": {},
   "outputs": [],
   "source": [
    "a = int(input(\"enter the number \"))\n",
    "if a > 0:\n",
    "    if a == 1:\n",
    "        print(\"Not a prime number\")\n",
    "    else:\n",
    "        i = 2 \n",
    "        sign = 0\n",
    "        while i < a: \n",
    "            if a%i == 0:\n",
    "                sign = 1\n",
    "                break\n",
    "            i += 1\n",
    "        if sign == 1:\n",
    "            print(\"Not a prime pumber \")\n",
    "        else: \n",
    "            print(\"Prime Number\")\n",
    "else:\n",
    "    print(\"Not a prime number \")"
   ]
  },
  {
   "cell_type": "markdown",
   "id": "529bb3bb",
   "metadata": {},
   "source": [
    "                                                                                                      "
   ]
  },
  {
   "cell_type": "markdown",
   "id": "cf71b4f3",
   "metadata": {},
   "source": [
    "Question 5: Write a Python Program to Print all Prime Numbers in an Interval of 1-10000?\n",
    "\n",
    "Answer:"
   ]
  },
  {
   "cell_type": "code",
   "execution_count": null,
   "id": "4f8ab6a2",
   "metadata": {},
   "outputs": [],
   "source": [
    "l = []\n",
    "for i in range(2,10001):\n",
    "    sign = 0\n",
    "    a = 2 \n",
    "    while a < i: \n",
    "        if i % a == 0:\n",
    "            sign = 1\n",
    "            break\n",
    "        a += 1\n",
    "    if sign == 0:\n",
    "        l.append(i)\n",
    "        \n",
    "print(l)\n",
    "  \n",
    "\n"
   ]
  }
 ],
 "metadata": {
  "kernelspec": {
   "display_name": "Python 3 (ipykernel)",
   "language": "python",
   "name": "python3"
  },
  "language_info": {
   "codemirror_mode": {
    "name": "ipython",
    "version": 3
   },
   "file_extension": ".py",
   "mimetype": "text/x-python",
   "name": "python",
   "nbconvert_exporter": "python",
   "pygments_lexer": "ipython3",
   "version": "3.9.7"
  }
 },
 "nbformat": 4,
 "nbformat_minor": 5
}
